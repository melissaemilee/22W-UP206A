{
 "cells": [
  {
   "cell_type": "markdown",
   "metadata": {
    "toc": true
   },
   "source": [
    "<h1>Table of Contents<span class=\"tocSkip\"></span></h1>\n",
    "<div class=\"toc\"><ul class=\"toc-item\"><li><span><a href=\"#Week-2:-Python-and-Metro\" data-toc-modified-id=\"Week-2:-Python-and-Metro-1\"><span class=\"toc-item-num\">1&nbsp;&nbsp;</span>Week 2: Python and Metro</a></span><ul class=\"toc-item\"><li><span><a href=\"#A-quick-geopandas-teaser\" data-toc-modified-id=\"A-quick-geopandas-teaser-1.1\"><span class=\"toc-item-num\">1.1&nbsp;&nbsp;</span>A quick geopandas teaser</a></span></li><li><span><a href=\"#Pandas-Data-Types\" data-toc-modified-id=\"Pandas-Data-Types-1.2\"><span class=\"toc-item-num\">1.2&nbsp;&nbsp;</span>Pandas Data Types</a></span></li><li><span><a href=\"#Data-exploration\" data-toc-modified-id=\"Data-exploration-1.3\"><span class=\"toc-item-num\">1.3&nbsp;&nbsp;</span>Data exploration</a></span><ul class=\"toc-item\"><li><span><a href=\"#Counting-unique-values-in-a-column\" data-toc-modified-id=\"Counting-unique-values-in-a-column-1.3.1\"><span class=\"toc-item-num\">1.3.1&nbsp;&nbsp;</span>Counting unique values in a column</a></span></li><li><span><a href=\"#Rename-columns\" data-toc-modified-id=\"Rename-columns-1.3.2\"><span class=\"toc-item-num\">1.3.2&nbsp;&nbsp;</span>Rename columns</a></span></li><li><span><a href=\"#A-quick-bar-plot\" data-toc-modified-id=\"A-quick-bar-plot-1.3.3\"><span class=\"toc-item-num\">1.3.3&nbsp;&nbsp;</span>A quick bar plot</a></span></li><li><span><a href=\"#Trimming-the-data\" data-toc-modified-id=\"Trimming-the-data-1.3.4\"><span class=\"toc-item-num\">1.3.4&nbsp;&nbsp;</span>Trimming the data</a></span></li><li><span><a href=\"#Subsetting/querying/filtering-the-data\" data-toc-modified-id=\"Subsetting/querying/filtering-the-data-1.3.5\"><span class=\"toc-item-num\">1.3.5&nbsp;&nbsp;</span>Subsetting/querying/filtering the data</a></span></li></ul></li><li><span><a href=\"#Plotting\" data-toc-modified-id=\"Plotting-1.4\"><span class=\"toc-item-num\">1.4&nbsp;&nbsp;</span>Plotting</a></span><ul class=\"toc-item\"><li><span><a href=\"#A-prettier-plot\" data-toc-modified-id=\"A-prettier-plot-1.4.1\"><span class=\"toc-item-num\">1.4.1&nbsp;&nbsp;</span>A prettier plot</a></span></li></ul></li><li><span><a href=\"#Mapping-with-folium\" data-toc-modified-id=\"Mapping-with-folium-1.5\"><span class=\"toc-item-num\">1.5&nbsp;&nbsp;</span>Mapping with folium</a></span><ul class=\"toc-item\"><li><span><a href=\"#Get-average-lat/lon's\" data-toc-modified-id=\"Get-average-lat/lon's-1.5.1\"><span class=\"toc-item-num\">1.5.1&nbsp;&nbsp;</span>Get average lat/lon's</a></span></li><li><span><a href=\"#Folium-map-with-arguments\" data-toc-modified-id=\"Folium-map-with-arguments-1.5.2\"><span class=\"toc-item-num\">1.5.2&nbsp;&nbsp;</span>Folium map with arguments</a></span></li><li><span><a href=\"#Adding-point-markers\" data-toc-modified-id=\"Adding-point-markers-1.5.3\"><span class=\"toc-item-num\">1.5.3&nbsp;&nbsp;</span>Adding point markers</a></span></li><li><span><a href=\"#Color-code-markers\" data-toc-modified-id=\"Color-code-markers-1.5.4\"><span class=\"toc-item-num\">1.5.4&nbsp;&nbsp;</span>Color code markers</a></span></li><li><span><a href=\"#Find-unique-values-in-a-column\" data-toc-modified-id=\"Find-unique-values-in-a-column-1.5.5\"><span class=\"toc-item-num\">1.5.5&nbsp;&nbsp;</span>Find unique values in a column</a></span></li><li><span><a href=\"#Update-column-based-on-a-query-on-another-column\" data-toc-modified-id=\"Update-column-based-on-a-query-on-another-column-1.5.6\"><span class=\"toc-item-num\">1.5.6&nbsp;&nbsp;</span>Update column based on a query on another column</a></span></li><li><span><a href=\"#Saving-your-folium-map-as-an-HTML-file\" data-toc-modified-id=\"Saving-your-folium-map-as-an-HTML-file-1.5.7\"><span class=\"toc-item-num\">1.5.7&nbsp;&nbsp;</span>Saving your folium map as an HTML file</a></span></li></ul></li></ul></li></ul></div>"
   ]
  },
  {
   "cell_type": "markdown",
   "metadata": {
    "slideshow": {
     "slide_type": "slide"
    }
   },
   "source": [
    "<div class=\"alert alert-danger\">\n",
    "\n",
    "Take notice:\n",
    "<ul>\n",
    "    <li>This class will be recorded</li>\n",
    "</ul>\n",
    "    \n",
    "</div>"
   ]
  },
  {
   "cell_type": "markdown",
   "metadata": {
    "slideshow": {
     "slide_type": "slide"
    }
   },
   "source": [
    "# Week 2: Python and Metro"
   ]
  },
  {
   "cell_type": "markdown",
   "metadata": {},
   "source": [
    "## A quick geopandas teaser\n",
    "Following our Python bootcamp last week (was it boring? exhilerating? a bit of both?), let's put that programming knowledge into action, using and creating data that reflects a real urban situation.\n",
    "\n",
    "We start by importing a new module `geopandas`. This is a pretty high level geospatial library, widely used by spatial data scientists all over the world. Don't worry about it too much for now, but know that it allows us to import a variety of spatial data formats, and plot them on a map.\n",
    "\n",
    "* [geopandas documentation](https://geopandas.readthedocs.io/en/latest/gallery/index.html)"
   ]
  },
  {
   "cell_type": "code",
   "execution_count": 2,
   "metadata": {},
   "outputs": [
    {
     "name": "stderr",
     "output_type": "stream",
     "text": [
      "/opt/conda/lib/python3.9/site-packages/geopandas/_compat.py:106: UserWarning: The Shapely GEOS version (3.9.1-CAPI-1.14.2) is incompatible with the GEOS version PyGEOS was compiled with (3.10.1-CAPI-1.16.0). Conversions between both will be slow.\n",
      "  warnings.warn(\n"
     ]
    }
   ],
   "source": [
    "import geopandas as gpd"
   ]
  },
  {
   "cell_type": "markdown",
   "metadata": {
    "slideshow": {
     "slide_type": "slide"
    }
   },
   "source": [
    "Next, we import some data. In this case, it is a [shapefile](https://desktop.arcgis.com/en/arcmap/latest/manage-data/shapefiles/what-is-a-shapefile.htm) downloaded from the [LA Metro's Developer web portal](https://developer.metro.net/gis-data/). Notice that we are using *relative* paths to point to where the data is located in. \n",
    "\n",
    "* [documentation on geopandas function `read_file`](https://geopandas.readthedocs.io/en/latest/docs/user_guide/io.html)"
   ]
  },
  {
   "cell_type": "code",
   "execution_count": 7,
   "metadata": {},
   "outputs": [],
   "source": [
    "# read and add shapefile to notebook\n",
    "metro = gpd.read_file('data/Stations_All_0316.zip')\n",
    "# metro = gpd.read_file('data/RailLines0316.zip')"
   ]
  },
  {
   "cell_type": "markdown",
   "metadata": {
    "slideshow": {
     "slide_type": "slide"
    }
   },
   "source": [
    "<div class=\"alert alert-info\">\n",
    "\n",
    "Note that the reason we use `geopandas` instead of `pandas` (other than the fact that we love maps) is that `pandas` cannot read shapefiles, whereas `geopandas` can.\n",
    "    \n",
    "</div>"
   ]
  },
  {
   "cell_type": "code",
   "execution_count": 8,
   "metadata": {},
   "outputs": [
    {
     "data": {
      "text/plain": [
       "geopandas.geodataframe.GeoDataFrame"
      ]
     },
     "execution_count": 8,
     "metadata": {},
     "output_type": "execute_result"
    }
   ],
   "source": [
    "# what's the data type?\n",
    "type(metro)"
   ]
  },
  {
   "cell_type": "code",
   "execution_count": 9,
   "metadata": {},
   "outputs": [
    {
     "data": {
      "text/html": [
       "<div>\n",
       "<style scoped>\n",
       "    .dataframe tbody tr th:only-of-type {\n",
       "        vertical-align: middle;\n",
       "    }\n",
       "\n",
       "    .dataframe tbody tr th {\n",
       "        vertical-align: top;\n",
       "    }\n",
       "\n",
       "    .dataframe thead th {\n",
       "        text-align: right;\n",
       "    }\n",
       "</style>\n",
       "<table border=\"1\" class=\"dataframe\">\n",
       "  <thead>\n",
       "    <tr style=\"text-align: right;\">\n",
       "      <th></th>\n",
       "      <th>LINE</th>\n",
       "      <th>LINENUM</th>\n",
       "      <th>LINENUM2</th>\n",
       "      <th>STNSEQ</th>\n",
       "      <th>STNSEQ2</th>\n",
       "      <th>DIR</th>\n",
       "      <th>STOPNUM</th>\n",
       "      <th>STATION</th>\n",
       "      <th>LAT</th>\n",
       "      <th>LONG</th>\n",
       "      <th>TPIS_NAME</th>\n",
       "      <th>POINT_X</th>\n",
       "      <th>POINT_Y</th>\n",
       "      <th>geometry</th>\n",
       "    </tr>\n",
       "  </thead>\n",
       "  <tbody>\n",
       "    <tr>\n",
       "      <th>0</th>\n",
       "      <td>Blue</td>\n",
       "      <td>801</td>\n",
       "      <td>0</td>\n",
       "      <td>21</td>\n",
       "      <td>0</td>\n",
       "      <td>None</td>\n",
       "      <td>80101</td>\n",
       "      <td>Downtown Long Beach Station</td>\n",
       "      <td>33.768071</td>\n",
       "      <td>-118.192921</td>\n",
       "      <td>Long Bch</td>\n",
       "      <td>6.503030e+06</td>\n",
       "      <td>1.738034e+06</td>\n",
       "      <td>POINT (-118.19292 33.76807)</td>\n",
       "    </tr>\n",
       "    <tr>\n",
       "      <th>1</th>\n",
       "      <td>Blue</td>\n",
       "      <td>801</td>\n",
       "      <td>0</td>\n",
       "      <td>22</td>\n",
       "      <td>0</td>\n",
       "      <td>North</td>\n",
       "      <td>80102</td>\n",
       "      <td>Pacific Ave Station</td>\n",
       "      <td>33.772258</td>\n",
       "      <td>-118.193700</td>\n",
       "      <td>Pacific</td>\n",
       "      <td>6.502796e+06</td>\n",
       "      <td>1.739558e+06</td>\n",
       "      <td>POINT (-118.19370 33.77226)</td>\n",
       "    </tr>\n",
       "    <tr>\n",
       "      <th>2</th>\n",
       "      <td>Blue</td>\n",
       "      <td>801</td>\n",
       "      <td>0</td>\n",
       "      <td>18</td>\n",
       "      <td>0</td>\n",
       "      <td>None</td>\n",
       "      <td>80105</td>\n",
       "      <td>Anaheim Street Station</td>\n",
       "      <td>33.781830</td>\n",
       "      <td>-118.189384</td>\n",
       "      <td>Anaheim</td>\n",
       "      <td>6.504115e+06</td>\n",
       "      <td>1.743039e+06</td>\n",
       "      <td>POINT (-118.18938 33.78183)</td>\n",
       "    </tr>\n",
       "    <tr>\n",
       "      <th>3</th>\n",
       "      <td>Blue</td>\n",
       "      <td>801</td>\n",
       "      <td>0</td>\n",
       "      <td>17</td>\n",
       "      <td>0</td>\n",
       "      <td>None</td>\n",
       "      <td>80106</td>\n",
       "      <td>Pacific Coast Hwy Station</td>\n",
       "      <td>33.789090</td>\n",
       "      <td>-118.189382</td>\n",
       "      <td>PCH</td>\n",
       "      <td>6.504120e+06</td>\n",
       "      <td>1.745681e+06</td>\n",
       "      <td>POINT (-118.18938 33.78909)</td>\n",
       "    </tr>\n",
       "    <tr>\n",
       "      <th>4</th>\n",
       "      <td>Blue</td>\n",
       "      <td>801</td>\n",
       "      <td>0</td>\n",
       "      <td>16</td>\n",
       "      <td>0</td>\n",
       "      <td>None</td>\n",
       "      <td>80107</td>\n",
       "      <td>Willow Street Station</td>\n",
       "      <td>33.807079</td>\n",
       "      <td>-118.189834</td>\n",
       "      <td>Willow</td>\n",
       "      <td>6.503995e+06</td>\n",
       "      <td>1.752228e+06</td>\n",
       "      <td>POINT (-118.18983 33.80708)</td>\n",
       "    </tr>\n",
       "  </tbody>\n",
       "</table>\n",
       "</div>"
      ],
      "text/plain": [
       "   LINE  LINENUM  LINENUM2  STNSEQ  STNSEQ2    DIR  STOPNUM  \\\n",
       "0  Blue      801         0      21        0   None    80101   \n",
       "1  Blue      801         0      22        0  North    80102   \n",
       "2  Blue      801         0      18        0   None    80105   \n",
       "3  Blue      801         0      17        0   None    80106   \n",
       "4  Blue      801         0      16        0   None    80107   \n",
       "\n",
       "                       STATION        LAT        LONG TPIS_NAME       POINT_X  \\\n",
       "0  Downtown Long Beach Station  33.768071 -118.192921  Long Bch  6.503030e+06   \n",
       "1          Pacific Ave Station  33.772258 -118.193700   Pacific  6.502796e+06   \n",
       "2       Anaheim Street Station  33.781830 -118.189384   Anaheim  6.504115e+06   \n",
       "3    Pacific Coast Hwy Station  33.789090 -118.189382       PCH  6.504120e+06   \n",
       "4        Willow Street Station  33.807079 -118.189834    Willow  6.503995e+06   \n",
       "\n",
       "        POINT_Y                     geometry  \n",
       "0  1.738034e+06  POINT (-118.19292 33.76807)  \n",
       "1  1.739558e+06  POINT (-118.19370 33.77226)  \n",
       "2  1.743039e+06  POINT (-118.18938 33.78183)  \n",
       "3  1.745681e+06  POINT (-118.18938 33.78909)  \n",
       "4  1.752228e+06  POINT (-118.18983 33.80708)  "
      ]
     },
     "execution_count": 9,
     "metadata": {},
     "output_type": "execute_result"
    }
   ],
   "source": [
    "# what does the data look like? \n",
    "metro.head()"
   ]
  },
  {
   "cell_type": "markdown",
   "metadata": {
    "slideshow": {
     "slide_type": "slide"
    }
   },
   "source": [
    "Ah! Surprise, surprise. Welcome to your first look at a pandas dataframe. We will cover dataframes more extensively in later sessions, but know that a python dataframe is like an excel spreadsheet. \n"
   ]
  },
  {
   "cell_type": "markdown",
   "metadata": {
    "slideshow": {
     "slide_type": "slide"
    }
   },
   "source": [
    "The `head()` command shows us the first 5 rows of the dataframe. You can also use `tail()` and `sample()`. Try these commands in the cells below:"
   ]
  },
  {
   "cell_type": "code",
   "execution_count": 10,
   "metadata": {},
   "outputs": [
    {
     "data": {
      "text/html": [
       "<div>\n",
       "<style scoped>\n",
       "    .dataframe tbody tr th:only-of-type {\n",
       "        vertical-align: middle;\n",
       "    }\n",
       "\n",
       "    .dataframe tbody tr th {\n",
       "        vertical-align: top;\n",
       "    }\n",
       "\n",
       "    .dataframe thead th {\n",
       "        text-align: right;\n",
       "    }\n",
       "</style>\n",
       "<table border=\"1\" class=\"dataframe\">\n",
       "  <thead>\n",
       "    <tr style=\"text-align: right;\">\n",
       "      <th></th>\n",
       "      <th>LINE</th>\n",
       "      <th>LINENUM</th>\n",
       "      <th>LINENUM2</th>\n",
       "      <th>STNSEQ</th>\n",
       "      <th>STNSEQ2</th>\n",
       "      <th>DIR</th>\n",
       "      <th>STOPNUM</th>\n",
       "      <th>STATION</th>\n",
       "      <th>LAT</th>\n",
       "      <th>LONG</th>\n",
       "      <th>TPIS_NAME</th>\n",
       "      <th>POINT_X</th>\n",
       "      <th>POINT_Y</th>\n",
       "      <th>geometry</th>\n",
       "    </tr>\n",
       "  </thead>\n",
       "  <tbody>\n",
       "    <tr>\n",
       "      <th>95</th>\n",
       "      <td>Gold</td>\n",
       "      <td>804</td>\n",
       "      <td>0</td>\n",
       "      <td>1</td>\n",
       "      <td>0</td>\n",
       "      <td>None</td>\n",
       "      <td>80427</td>\n",
       "      <td>APU / Citrus College Station</td>\n",
       "      <td>34.136814</td>\n",
       "      <td>-117.891636</td>\n",
       "      <td>APU/Cit</td>\n",
       "      <td>6594458.0</td>\n",
       "      <td>1872189.0</td>\n",
       "      <td>POINT (-117.89164 34.13681)</td>\n",
       "    </tr>\n",
       "  </tbody>\n",
       "</table>\n",
       "</div>"
      ],
      "text/plain": [
       "    LINE  LINENUM  LINENUM2  STNSEQ  STNSEQ2   DIR  STOPNUM  \\\n",
       "95  Gold      804         0       1        0  None    80427   \n",
       "\n",
       "                         STATION        LAT        LONG TPIS_NAME    POINT_X  \\\n",
       "95  APU / Citrus College Station  34.136814 -117.891636   APU/Cit  6594458.0   \n",
       "\n",
       "      POINT_Y                     geometry  \n",
       "95  1872189.0  POINT (-117.89164 34.13681)  "
      ]
     },
     "execution_count": 10,
     "metadata": {},
     "output_type": "execute_result"
    }
   ],
   "source": [
    "# try tail()\n",
    "metro.tail(1)"
   ]
  },
  {
   "cell_type": "code",
   "execution_count": 11,
   "metadata": {},
   "outputs": [
    {
     "data": {
      "text/html": [
       "<div>\n",
       "<style scoped>\n",
       "    .dataframe tbody tr th:only-of-type {\n",
       "        vertical-align: middle;\n",
       "    }\n",
       "\n",
       "    .dataframe tbody tr th {\n",
       "        vertical-align: top;\n",
       "    }\n",
       "\n",
       "    .dataframe thead th {\n",
       "        text-align: right;\n",
       "    }\n",
       "</style>\n",
       "<table border=\"1\" class=\"dataframe\">\n",
       "  <thead>\n",
       "    <tr style=\"text-align: right;\">\n",
       "      <th></th>\n",
       "      <th>LINE</th>\n",
       "      <th>LINENUM</th>\n",
       "      <th>LINENUM2</th>\n",
       "      <th>STNSEQ</th>\n",
       "      <th>STNSEQ2</th>\n",
       "      <th>DIR</th>\n",
       "      <th>STOPNUM</th>\n",
       "      <th>STATION</th>\n",
       "      <th>LAT</th>\n",
       "      <th>LONG</th>\n",
       "      <th>TPIS_NAME</th>\n",
       "      <th>POINT_X</th>\n",
       "      <th>POINT_Y</th>\n",
       "      <th>geometry</th>\n",
       "    </tr>\n",
       "  </thead>\n",
       "  <tbody>\n",
       "    <tr>\n",
       "      <th>20</th>\n",
       "      <td>EXPO</td>\n",
       "      <td>806</td>\n",
       "      <td>0</td>\n",
       "      <td>3</td>\n",
       "      <td>0</td>\n",
       "      <td>None</td>\n",
       "      <td>80123</td>\n",
       "      <td>LATTC / Ortho Institute Station</td>\n",
       "      <td>34.029112</td>\n",
       "      <td>-118.273603</td>\n",
       "      <td>LATTC/Ortho</td>\n",
       "      <td>6.478766e+06</td>\n",
       "      <td>1.833089e+06</td>\n",
       "      <td>POINT (-118.27360 34.02911)</td>\n",
       "    </tr>\n",
       "    <tr>\n",
       "      <th>9</th>\n",
       "      <td>Blue</td>\n",
       "      <td>801</td>\n",
       "      <td>0</td>\n",
       "      <td>11</td>\n",
       "      <td>0</td>\n",
       "      <td>None</td>\n",
       "      <td>80112</td>\n",
       "      <td>Willowbrook - Rosa Parks Station - Metro Blue ...</td>\n",
       "      <td>33.928048</td>\n",
       "      <td>-118.237555</td>\n",
       "      <td>Willwbrk</td>\n",
       "      <td>6.489602e+06</td>\n",
       "      <td>1.796282e+06</td>\n",
       "      <td>POINT (-118.23756 33.92805)</td>\n",
       "    </tr>\n",
       "  </tbody>\n",
       "</table>\n",
       "</div>"
      ],
      "text/plain": [
       "    LINE  LINENUM  LINENUM2  STNSEQ  STNSEQ2   DIR  STOPNUM  \\\n",
       "20  EXPO      806         0       3        0  None    80123   \n",
       "9   Blue      801         0      11        0  None    80112   \n",
       "\n",
       "                                              STATION        LAT        LONG  \\\n",
       "20                    LATTC / Ortho Institute Station  34.029112 -118.273603   \n",
       "9   Willowbrook - Rosa Parks Station - Metro Blue ...  33.928048 -118.237555   \n",
       "\n",
       "      TPIS_NAME       POINT_X       POINT_Y                     geometry  \n",
       "20  LATTC/Ortho  6.478766e+06  1.833089e+06  POINT (-118.27360 34.02911)  \n",
       "9      Willwbrk  6.489602e+06  1.796282e+06  POINT (-118.23756 33.92805)  "
      ]
     },
     "execution_count": 11,
     "metadata": {},
     "output_type": "execute_result"
    }
   ],
   "source": [
    "# try sample()\n",
    "metro.sample(2)"
   ]
  },
  {
   "cell_type": "markdown",
   "metadata": {
    "slideshow": {
     "slide_type": "slide"
    }
   },
   "source": [
    "## Pandas Data Types\n",
    "\n",
    "Let's look at the data types for each column. You can collectively get all the datatypes for each column in a dataframe using the `dtypes` command."
   ]
  },
  {
   "cell_type": "code",
   "execution_count": 12,
   "metadata": {
    "scrolled": true
   },
   "outputs": [
    {
     "data": {
      "text/plain": [
       "LINE           object\n",
       "LINENUM         int64\n",
       "LINENUM2        int64\n",
       "STNSEQ          int64\n",
       "STNSEQ2         int64\n",
       "DIR            object\n",
       "STOPNUM         int64\n",
       "STATION        object\n",
       "LAT           float64\n",
       "LONG          float64\n",
       "TPIS_NAME      object\n",
       "POINT_X       float64\n",
       "POINT_Y       float64\n",
       "geometry     geometry\n",
       "dtype: object"
      ]
     },
     "execution_count": 12,
     "metadata": {},
     "output_type": "execute_result"
    }
   ],
   "source": [
    "metro.dtypes"
   ]
  },
  {
   "cell_type": "markdown",
   "metadata": {
    "slideshow": {
     "slide_type": "slide"
    }
   },
   "source": [
    "But there is better command that will get you more info. Yes, the `info` command."
   ]
  },
  {
   "cell_type": "code",
   "execution_count": 13,
   "metadata": {
    "slideshow": {
     "slide_type": "fragment"
    }
   },
   "outputs": [
    {
     "name": "stdout",
     "output_type": "stream",
     "text": [
      "<class 'geopandas.geodataframe.GeoDataFrame'>\n",
      "RangeIndex: 96 entries, 0 to 95\n",
      "Data columns (total 14 columns):\n",
      " #   Column     Non-Null Count  Dtype   \n",
      "---  ------     --------------  -----   \n",
      " 0   LINE       96 non-null     object  \n",
      " 1   LINENUM    96 non-null     int64   \n",
      " 2   LINENUM2   96 non-null     int64   \n",
      " 3   STNSEQ     96 non-null     int64   \n",
      " 4   STNSEQ2    96 non-null     int64   \n",
      " 5   DIR        3 non-null      object  \n",
      " 6   STOPNUM    96 non-null     int64   \n",
      " 7   STATION    96 non-null     object  \n",
      " 8   LAT        96 non-null     float64 \n",
      " 9   LONG       96 non-null     float64 \n",
      " 10  TPIS_NAME  96 non-null     object  \n",
      " 11  POINT_X    96 non-null     float64 \n",
      " 12  POINT_Y    96 non-null     float64 \n",
      " 13  geometry   96 non-null     geometry\n",
      "dtypes: float64(4), geometry(1), int64(5), object(4)\n",
      "memory usage: 10.6+ KB\n"
     ]
    }
   ],
   "source": [
    "# dataframe info\n",
    "metro.info()"
   ]
  },
  {
   "cell_type": "markdown",
   "metadata": {
    "slideshow": {
     "slide_type": "slide"
    }
   },
   "source": [
    "Wait. That looks different from what we have worked on! As it turns out, pandas datatypes are slightly different from the raw python datatypes. Check out the table below:"
   ]
  },
  {
   "cell_type": "markdown",
   "metadata": {
    "slideshow": {
     "slide_type": "fragment"
    }
   },
   "source": [
    "<table class=\"table table-striped\">\n",
    "  <thead>\n",
    "    <tr>\n",
    "      <th>Pandas Type</th>\n",
    "      <th>Native Python Type</th>\n",
    "      <th>Description</th>\n",
    "    </tr>\n",
    "  </thead>\n",
    "  <tbody>\n",
    "    <tr>\n",
    "      <td>object</td>\n",
    "      <td>string</td>\n",
    "      <td>The most general dtype. Will be assigned to your column if column has mixed types (numbers and strings).</td>\n",
    "    </tr>\n",
    "    <tr>\n",
    "      <td>int64</td>\n",
    "      <td>int</td>\n",
    "      <td>Numeric characters. 64 refers to the memory allocated to hold this character.</td>\n",
    "    </tr>\n",
    "    <tr>\n",
    "      <td>float64</td>\n",
    "      <td>float</td>\n",
    "      <td>Numeric characters with decimals. If a column contains numbers and NaNs (see below), pandas will default to float64, in case your missing value has a decimal.</td>\n",
    "    </tr>\n",
    "    <tr>\n",
    "      <td>datetime64, timedelta[ns]</td>\n",
    "      <td>N/A (but see the <a href=\"http://doc.python.org/2/library/datetime.html\">datetime</a> module in Python’s standard library)</td>\n",
    "      <td>Values meant to hold time data. Look into these for time series experiments.</td>\n",
    "    </tr>\n",
    "  </tbody>\n",
    "</table>"
   ]
  },
  {
   "cell_type": "markdown",
   "metadata": {
    "slideshow": {
     "slide_type": "slide"
    }
   },
   "source": [
    "## Data exploration\n",
    "\n",
    "Part of data exploration is learning what is in your data. How many rows are there? What are the columns? How many rows represent a particular slice of the data?"
   ]
  },
  {
   "cell_type": "code",
   "execution_count": 14,
   "metadata": {
    "slideshow": {
     "slide_type": "fragment"
    }
   },
   "outputs": [
    {
     "data": {
      "text/plain": [
       "(96, 14)"
      ]
     },
     "execution_count": 14,
     "metadata": {},
     "output_type": "execute_result"
    }
   ],
   "source": [
    "# how many rows and columns?\n",
    "metro.shape"
   ]
  },
  {
   "cell_type": "code",
   "execution_count": 15,
   "metadata": {
    "slideshow": {
     "slide_type": "fragment"
    }
   },
   "outputs": [
    {
     "data": {
      "text/plain": [
       "['LINE',\n",
       " 'LINENUM',\n",
       " 'LINENUM2',\n",
       " 'STNSEQ',\n",
       " 'STNSEQ2',\n",
       " 'DIR',\n",
       " 'STOPNUM',\n",
       " 'STATION',\n",
       " 'LAT',\n",
       " 'LONG',\n",
       " 'TPIS_NAME',\n",
       " 'POINT_X',\n",
       " 'POINT_Y',\n",
       " 'geometry']"
      ]
     },
     "execution_count": 15,
     "metadata": {},
     "output_type": "execute_result"
    }
   ],
   "source": [
    "# what are the columns?\n",
    "metro.columns.to_list()"
   ]
  },
  {
   "cell_type": "markdown",
   "metadata": {
    "slideshow": {
     "slide_type": "slide"
    }
   },
   "source": [
    "### Counting unique values in a column\n",
    "\n",
    "First, learn how to get values for a single column."
   ]
  },
  {
   "cell_type": "code",
   "execution_count": 16,
   "metadata": {
    "slideshow": {
     "slide_type": "fragment"
    }
   },
   "outputs": [
    {
     "data": {
      "text/plain": [
       "48    Green\n",
       "77     Gold\n",
       "86     EXPO\n",
       "52    Green\n",
       "29     EXPO\n",
       "Name: LINE, dtype: object"
      ]
     },
     "execution_count": 16,
     "metadata": {},
     "output_type": "execute_result"
    }
   ],
   "source": [
    "# single column\n",
    "metro['LINE'].sample(5)"
   ]
  },
  {
   "cell_type": "code",
   "execution_count": 17,
   "metadata": {
    "slideshow": {
     "slide_type": "slide"
    }
   },
   "outputs": [
    {
     "data": {
      "text/plain": [
       "29          EXPO\n",
       "43    Red/Purple\n",
       "19     Blue/EXPO\n",
       "31          Blue\n",
       "79          Gold\n",
       "Name: LINE, dtype: object"
      ]
     },
     "execution_count": 17,
     "metadata": {},
     "output_type": "execute_result"
    }
   ],
   "source": [
    "# another way\n",
    "metro.LINE.sample(5)"
   ]
  },
  {
   "cell_type": "markdown",
   "metadata": {
    "slideshow": {
     "slide_type": "fragment"
    }
   },
   "source": [
    "<div class=\"alert alert-info\">\n",
    "What are situations when one method is necessary over the other? (i.e. metro['LINE'] vs metro.LINE)\n",
    "</div>"
   ]
  },
  {
   "cell_type": "markdown",
   "metadata": {
    "slideshow": {
     "slide_type": "slide"
    }
   },
   "source": [
    "This returns what is called a python series, a one dimensional array."
   ]
  },
  {
   "cell_type": "markdown",
   "metadata": {
    "slideshow": {
     "slide_type": "slide"
    }
   },
   "source": [
    "But what if you want to know how many stations there are for each line?"
   ]
  },
  {
   "cell_type": "code",
   "execution_count": 18,
   "metadata": {
    "slideshow": {
     "slide_type": "fragment"
    }
   },
   "outputs": [
    {
     "data": {
      "text/plain": [
       "Gold          27\n",
       "Blue          20\n",
       "EXPO          17\n",
       "Green         14\n",
       "Red            8\n",
       "Red/Purple     6\n",
       "Blue/EXPO      2\n",
       "Purple         2\n",
       "Name: LINE, dtype: int64"
      ]
     },
     "execution_count": 18,
     "metadata": {},
     "output_type": "execute_result"
    }
   ],
   "source": [
    "metro['LINE'].value_counts()"
   ]
  },
  {
   "cell_type": "code",
   "execution_count": 19,
   "metadata": {
    "slideshow": {
     "slide_type": "fragment"
    }
   },
   "outputs": [
    {
     "data": {
      "text/plain": [
       "Gold          27\n",
       "Blue          20\n",
       "EXPO          17\n",
       "Green         14\n",
       "Red            8\n",
       "Red/Purple     6\n",
       "Blue/EXPO      2\n",
       "Purple         2\n",
       "Name: LINE, dtype: int64"
      ]
     },
     "execution_count": 19,
     "metadata": {},
     "output_type": "execute_result"
    }
   ],
   "source": [
    "# save it as a variable\n",
    "line_count = metro['LINE'].value_counts()\n",
    "line_count"
   ]
  },
  {
   "cell_type": "code",
   "execution_count": 20,
   "metadata": {
    "scrolled": true,
    "slideshow": {
     "slide_type": "slide"
    }
   },
   "outputs": [
    {
     "data": {
      "text/html": [
       "<div>\n",
       "<style scoped>\n",
       "    .dataframe tbody tr th:only-of-type {\n",
       "        vertical-align: middle;\n",
       "    }\n",
       "\n",
       "    .dataframe tbody tr th {\n",
       "        vertical-align: top;\n",
       "    }\n",
       "\n",
       "    .dataframe thead th {\n",
       "        text-align: right;\n",
       "    }\n",
       "</style>\n",
       "<table border=\"1\" class=\"dataframe\">\n",
       "  <thead>\n",
       "    <tr style=\"text-align: right;\">\n",
       "      <th></th>\n",
       "      <th>index</th>\n",
       "      <th>LINE</th>\n",
       "    </tr>\n",
       "  </thead>\n",
       "  <tbody>\n",
       "    <tr>\n",
       "      <th>0</th>\n",
       "      <td>Gold</td>\n",
       "      <td>27</td>\n",
       "    </tr>\n",
       "    <tr>\n",
       "      <th>1</th>\n",
       "      <td>Blue</td>\n",
       "      <td>20</td>\n",
       "    </tr>\n",
       "    <tr>\n",
       "      <th>2</th>\n",
       "      <td>EXPO</td>\n",
       "      <td>17</td>\n",
       "    </tr>\n",
       "    <tr>\n",
       "      <th>3</th>\n",
       "      <td>Green</td>\n",
       "      <td>14</td>\n",
       "    </tr>\n",
       "    <tr>\n",
       "      <th>4</th>\n",
       "      <td>Red</td>\n",
       "      <td>8</td>\n",
       "    </tr>\n",
       "    <tr>\n",
       "      <th>5</th>\n",
       "      <td>Red/Purple</td>\n",
       "      <td>6</td>\n",
       "    </tr>\n",
       "    <tr>\n",
       "      <th>6</th>\n",
       "      <td>Blue/EXPO</td>\n",
       "      <td>2</td>\n",
       "    </tr>\n",
       "    <tr>\n",
       "      <th>7</th>\n",
       "      <td>Purple</td>\n",
       "      <td>2</td>\n",
       "    </tr>\n",
       "  </tbody>\n",
       "</table>\n",
       "</div>"
      ],
      "text/plain": [
       "        index  LINE\n",
       "0        Gold    27\n",
       "1        Blue    20\n",
       "2        EXPO    17\n",
       "3       Green    14\n",
       "4         Red     8\n",
       "5  Red/Purple     6\n",
       "6   Blue/EXPO     2\n",
       "7      Purple     2"
      ]
     },
     "execution_count": 20,
     "metadata": {},
     "output_type": "execute_result"
    }
   ],
   "source": [
    "# let's convert the series into a dataframe\n",
    "line_count = line_count.reset_index()\n",
    "line_count"
   ]
  },
  {
   "cell_type": "code",
   "execution_count": 21,
   "metadata": {
    "slideshow": {
     "slide_type": "fragment"
    }
   },
   "outputs": [
    {
     "data": {
      "text/plain": [
       "pandas.core.frame.DataFrame"
      ]
     },
     "execution_count": 21,
     "metadata": {},
     "output_type": "execute_result"
    }
   ],
   "source": [
    "type(line_count)"
   ]
  },
  {
   "cell_type": "markdown",
   "metadata": {
    "slideshow": {
     "slide_type": "slide"
    }
   },
   "source": [
    "### Rename columns"
   ]
  },
  {
   "cell_type": "code",
   "execution_count": 22,
   "metadata": {
    "slideshow": {
     "slide_type": "fragment"
    }
   },
   "outputs": [
    {
     "data": {
      "text/plain": [
       "['index', 'LINE']"
      ]
     },
     "execution_count": 22,
     "metadata": {},
     "output_type": "execute_result"
    }
   ],
   "source": [
    "# current columns as a list\n",
    "line_count.columns.to_list()"
   ]
  },
  {
   "cell_type": "markdown",
   "metadata": {
    "slideshow": {
     "slide_type": "fragment"
    }
   },
   "source": [
    "To rename columns, simply give it a list of column names"
   ]
  },
  {
   "cell_type": "code",
   "execution_count": 23,
   "metadata": {
    "slideshow": {
     "slide_type": "fragment"
    }
   },
   "outputs": [],
   "source": [
    "line_count.columns = ['line', 'count']"
   ]
  },
  {
   "cell_type": "code",
   "execution_count": 24,
   "metadata": {
    "slideshow": {
     "slide_type": "fragment"
    }
   },
   "outputs": [
    {
     "data": {
      "text/html": [
       "<div>\n",
       "<style scoped>\n",
       "    .dataframe tbody tr th:only-of-type {\n",
       "        vertical-align: middle;\n",
       "    }\n",
       "\n",
       "    .dataframe tbody tr th {\n",
       "        vertical-align: top;\n",
       "    }\n",
       "\n",
       "    .dataframe thead th {\n",
       "        text-align: right;\n",
       "    }\n",
       "</style>\n",
       "<table border=\"1\" class=\"dataframe\">\n",
       "  <thead>\n",
       "    <tr style=\"text-align: right;\">\n",
       "      <th></th>\n",
       "      <th>line</th>\n",
       "      <th>count</th>\n",
       "    </tr>\n",
       "  </thead>\n",
       "  <tbody>\n",
       "    <tr>\n",
       "      <th>0</th>\n",
       "      <td>Gold</td>\n",
       "      <td>27</td>\n",
       "    </tr>\n",
       "    <tr>\n",
       "      <th>1</th>\n",
       "      <td>Blue</td>\n",
       "      <td>20</td>\n",
       "    </tr>\n",
       "    <tr>\n",
       "      <th>2</th>\n",
       "      <td>EXPO</td>\n",
       "      <td>17</td>\n",
       "    </tr>\n",
       "    <tr>\n",
       "      <th>3</th>\n",
       "      <td>Green</td>\n",
       "      <td>14</td>\n",
       "    </tr>\n",
       "    <tr>\n",
       "      <th>4</th>\n",
       "      <td>Red</td>\n",
       "      <td>8</td>\n",
       "    </tr>\n",
       "    <tr>\n",
       "      <th>5</th>\n",
       "      <td>Red/Purple</td>\n",
       "      <td>6</td>\n",
       "    </tr>\n",
       "    <tr>\n",
       "      <th>6</th>\n",
       "      <td>Blue/EXPO</td>\n",
       "      <td>2</td>\n",
       "    </tr>\n",
       "    <tr>\n",
       "      <th>7</th>\n",
       "      <td>Purple</td>\n",
       "      <td>2</td>\n",
       "    </tr>\n",
       "  </tbody>\n",
       "</table>\n",
       "</div>"
      ],
      "text/plain": [
       "         line  count\n",
       "0        Gold     27\n",
       "1        Blue     20\n",
       "2        EXPO     17\n",
       "3       Green     14\n",
       "4         Red      8\n",
       "5  Red/Purple      6\n",
       "6   Blue/EXPO      2\n",
       "7      Purple      2"
      ]
     },
     "execution_count": 24,
     "metadata": {},
     "output_type": "execute_result"
    }
   ],
   "source": [
    "line_count"
   ]
  },
  {
   "cell_type": "markdown",
   "metadata": {
    "slideshow": {
     "slide_type": "slide"
    }
   },
   "source": [
    "### A quick bar plot"
   ]
  },
  {
   "cell_type": "markdown",
   "metadata": {
    "slideshow": {
     "slide_type": "-"
    }
   },
   "source": [
    "* [pandas plot](https://pandas.pydata.org/pandas-docs/stable/getting_started/intro_tutorials/04_plotting.html#min-tut-04-plotting)"
   ]
  },
  {
   "cell_type": "code",
   "execution_count": 25,
   "metadata": {},
   "outputs": [
    {
     "data": {
      "text/plain": [
       "<AxesSubplot:>"
      ]
     },
     "execution_count": 25,
     "metadata": {},
     "output_type": "execute_result"
    },
    {
     "data": {
      "image/png": "[encoded data removed]",
      "text/plain": [
       "<Figure size 432x288 with 1 Axes>"
      ]
     },
     "metadata": {
      "needs_background": "light"
     },
     "output_type": "display_data"
    }
   ],
   "source": [
    "line_count.plot()"
   ]
  },
  {
   "cell_type": "code",
   "execution_count": 26,
   "metadata": {
    "slideshow": {
     "slide_type": "slide"
    }
   },
   "outputs": [
    {
     "data": {
      "text/plain": [
       "<AxesSubplot:title={'center':'Number of stops per metro line'}, xlabel='line'>"
      ]
     },
     "execution_count": 26,
     "metadata": {},
     "output_type": "execute_result"
    },
    {
     "data": {
      "image/png": "[encoded data removed]",
      "text/plain": [
       "<Figure size 432x288 with 1 Axes>"
      ]
     },
     "metadata": {
      "needs_background": "light"
     },
     "output_type": "display_data"
    }
   ],
   "source": [
    "# give it additional arguments\n",
    "line_count.plot.bar(x = 'line', y = 'count', title = 'Number of stops per metro line')"
   ]
  },
  {
   "cell_type": "markdown",
   "metadata": {
    "slideshow": {
     "slide_type": "slide"
    }
   },
   "source": [
    "### Trimming the data\n",
    "Oftentimes, we import data and it has too many columns. It is always good practice to eliminate those rows that you are sure you will not use, and keep your data \"clean\" and \"mean.\"\n",
    "\n"
   ]
  },
  {
   "cell_type": "code",
   "execution_count": 27,
   "metadata": {},
   "outputs": [
    {
     "name": "stdout",
     "output_type": "stream",
     "text": [
      "<class 'geopandas.geodataframe.GeoDataFrame'>\n",
      "RangeIndex: 96 entries, 0 to 95\n",
      "Data columns (total 14 columns):\n",
      " #   Column     Non-Null Count  Dtype   \n",
      "---  ------     --------------  -----   \n",
      " 0   LINE       96 non-null     object  \n",
      " 1   LINENUM    96 non-null     int64   \n",
      " 2   LINENUM2   96 non-null     int64   \n",
      " 3   STNSEQ     96 non-null     int64   \n",
      " 4   STNSEQ2    96 non-null     int64   \n",
      " 5   DIR        3 non-null      object  \n",
      " 6   STOPNUM    96 non-null     int64   \n",
      " 7   STATION    96 non-null     object  \n",
      " 8   LAT        96 non-null     float64 \n",
      " 9   LONG       96 non-null     float64 \n",
      " 10  TPIS_NAME  96 non-null     object  \n",
      " 11  POINT_X    96 non-null     float64 \n",
      " 12  POINT_Y    96 non-null     float64 \n",
      " 13  geometry   96 non-null     geometry\n",
      "dtypes: float64(4), geometry(1), int64(5), object(4)\n",
      "memory usage: 10.6+ KB\n"
     ]
    }
   ],
   "source": [
    "# output the original data's info\n",
    "metro.info()"
   ]
  },
  {
   "cell_type": "code",
   "execution_count": 28,
   "metadata": {
    "slideshow": {
     "slide_type": "slide"
    }
   },
   "outputs": [
    {
     "data": {
      "text/html": [
       "<div>\n",
       "<style scoped>\n",
       "    .dataframe tbody tr th:only-of-type {\n",
       "        vertical-align: middle;\n",
       "    }\n",
       "\n",
       "    .dataframe tbody tr th {\n",
       "        vertical-align: top;\n",
       "    }\n",
       "\n",
       "    .dataframe thead th {\n",
       "        text-align: right;\n",
       "    }\n",
       "</style>\n",
       "<table border=\"1\" class=\"dataframe\">\n",
       "  <thead>\n",
       "    <tr style=\"text-align: right;\">\n",
       "      <th></th>\n",
       "      <th>LINE</th>\n",
       "      <th>LINENUM</th>\n",
       "      <th>STATION</th>\n",
       "      <th>LAT</th>\n",
       "      <th>LONG</th>\n",
       "      <th>geometry</th>\n",
       "    </tr>\n",
       "  </thead>\n",
       "  <tbody>\n",
       "    <tr>\n",
       "      <th>0</th>\n",
       "      <td>Blue</td>\n",
       "      <td>801</td>\n",
       "      <td>Downtown Long Beach Station</td>\n",
       "      <td>33.768071</td>\n",
       "      <td>-118.192921</td>\n",
       "      <td>POINT (-118.19292 33.76807)</td>\n",
       "    </tr>\n",
       "    <tr>\n",
       "      <th>1</th>\n",
       "      <td>Blue</td>\n",
       "      <td>801</td>\n",
       "      <td>Pacific Ave Station</td>\n",
       "      <td>33.772258</td>\n",
       "      <td>-118.193700</td>\n",
       "      <td>POINT (-118.19370 33.77226)</td>\n",
       "    </tr>\n",
       "    <tr>\n",
       "      <th>2</th>\n",
       "      <td>Blue</td>\n",
       "      <td>801</td>\n",
       "      <td>Anaheim Street Station</td>\n",
       "      <td>33.781830</td>\n",
       "      <td>-118.189384</td>\n",
       "      <td>POINT (-118.18938 33.78183)</td>\n",
       "    </tr>\n",
       "    <tr>\n",
       "      <th>3</th>\n",
       "      <td>Blue</td>\n",
       "      <td>801</td>\n",
       "      <td>Pacific Coast Hwy Station</td>\n",
       "      <td>33.789090</td>\n",
       "      <td>-118.189382</td>\n",
       "      <td>POINT (-118.18938 33.78909)</td>\n",
       "    </tr>\n",
       "    <tr>\n",
       "      <th>4</th>\n",
       "      <td>Blue</td>\n",
       "      <td>801</td>\n",
       "      <td>Willow Street Station</td>\n",
       "      <td>33.807079</td>\n",
       "      <td>-118.189834</td>\n",
       "      <td>POINT (-118.18983 33.80708)</td>\n",
       "    </tr>\n",
       "    <tr>\n",
       "      <th>...</th>\n",
       "      <td>...</td>\n",
       "      <td>...</td>\n",
       "      <td>...</td>\n",
       "      <td>...</td>\n",
       "      <td>...</td>\n",
       "      <td>...</td>\n",
       "    </tr>\n",
       "    <tr>\n",
       "      <th>91</th>\n",
       "      <td>Gold</td>\n",
       "      <td>804</td>\n",
       "      <td>Monrovia Station</td>\n",
       "      <td>34.133155</td>\n",
       "      <td>-118.003473</td>\n",
       "      <td>POINT (-118.00347 34.13316)</td>\n",
       "    </tr>\n",
       "    <tr>\n",
       "      <th>92</th>\n",
       "      <td>Gold</td>\n",
       "      <td>804</td>\n",
       "      <td>Duarte / City of Hope Station</td>\n",
       "      <td>34.132518</td>\n",
       "      <td>-117.967680</td>\n",
       "      <td>POINT (-117.96768 34.13252)</td>\n",
       "    </tr>\n",
       "    <tr>\n",
       "      <th>93</th>\n",
       "      <td>Gold</td>\n",
       "      <td>804</td>\n",
       "      <td>Irwindale Station</td>\n",
       "      <td>34.129048</td>\n",
       "      <td>-117.932506</td>\n",
       "      <td>POINT (-117.93251 34.12905)</td>\n",
       "    </tr>\n",
       "    <tr>\n",
       "      <th>94</th>\n",
       "      <td>Gold</td>\n",
       "      <td>804</td>\n",
       "      <td>Azusa Downtown Station</td>\n",
       "      <td>34.135863</td>\n",
       "      <td>-117.906631</td>\n",
       "      <td>POINT (-117.90663 34.13586)</td>\n",
       "    </tr>\n",
       "    <tr>\n",
       "      <th>95</th>\n",
       "      <td>Gold</td>\n",
       "      <td>804</td>\n",
       "      <td>APU / Citrus College Station</td>\n",
       "      <td>34.136814</td>\n",
       "      <td>-117.891636</td>\n",
       "      <td>POINT (-117.89164 34.13681)</td>\n",
       "    </tr>\n",
       "  </tbody>\n",
       "</table>\n",
       "<p>96 rows × 6 columns</p>\n",
       "</div>"
      ],
      "text/plain": [
       "    LINE  LINENUM                        STATION        LAT        LONG  \\\n",
       "0   Blue      801    Downtown Long Beach Station  33.768071 -118.192921   \n",
       "1   Blue      801            Pacific Ave Station  33.772258 -118.193700   \n",
       "2   Blue      801         Anaheim Street Station  33.781830 -118.189384   \n",
       "3   Blue      801      Pacific Coast Hwy Station  33.789090 -118.189382   \n",
       "4   Blue      801          Willow Street Station  33.807079 -118.189834   \n",
       "..   ...      ...                            ...        ...         ...   \n",
       "91  Gold      804               Monrovia Station  34.133155 -118.003473   \n",
       "92  Gold      804  Duarte / City of Hope Station  34.132518 -117.967680   \n",
       "93  Gold      804              Irwindale Station  34.129048 -117.932506   \n",
       "94  Gold      804         Azusa Downtown Station  34.135863 -117.906631   \n",
       "95  Gold      804   APU / Citrus College Station  34.136814 -117.891636   \n",
       "\n",
       "                       geometry  \n",
       "0   POINT (-118.19292 33.76807)  \n",
       "1   POINT (-118.19370 33.77226)  \n",
       "2   POINT (-118.18938 33.78183)  \n",
       "3   POINT (-118.18938 33.78909)  \n",
       "4   POINT (-118.18983 33.80708)  \n",
       "..                          ...  \n",
       "91  POINT (-118.00347 34.13316)  \n",
       "92  POINT (-117.96768 34.13252)  \n",
       "93  POINT (-117.93251 34.12905)  \n",
       "94  POINT (-117.90663 34.13586)  \n",
       "95  POINT (-117.89164 34.13681)  \n",
       "\n",
       "[96 rows x 6 columns]"
      ]
     },
     "execution_count": 28,
     "metadata": {},
     "output_type": "execute_result"
    }
   ],
   "source": [
    "# show a dataframe with a subset of columns\n",
    "metro[['LINE','LINENUM','STATION','LAT','LONG','geometry']]"
   ]
  },
  {
   "cell_type": "markdown",
   "metadata": {
    "slideshow": {
     "slide_type": "slide"
    }
   },
   "source": [
    "Wait, why the double square brackets? `[[...]]`\n",
    "\n",
    "The reason for this is that we are feeding the dataframe a list of column names. Another way to do the same thing would be:"
   ]
  },
  {
   "cell_type": "code",
   "execution_count": null,
   "metadata": {
    "slideshow": {
     "slide_type": "fragment"
    }
   },
   "outputs": [],
   "source": [
    "# list of desired column names\n",
    "desired_columns = ['LINE','LINENUM','STATION','LAT','LONG','geometry']\n",
    "\n",
    "# subset based on desired columns\n",
    "metro[desired_columns].sample(5)"
   ]
  },
  {
   "cell_type": "markdown",
   "metadata": {
    "slideshow": {
     "slide_type": "slide"
    }
   },
   "source": [
    "If you now print the dataframe, what happens?"
   ]
  },
  {
   "cell_type": "code",
   "execution_count": null,
   "metadata": {
    "slideshow": {
     "slide_type": "fragment"
    }
   },
   "outputs": [],
   "source": [
    "metro.head()"
   ]
  },
  {
   "cell_type": "markdown",
   "metadata": {
    "slideshow": {
     "slide_type": "fragment"
    }
   },
   "source": [
    "What happened? Why has the dataframe reverted to the original data?"
   ]
  },
  {
   "cell_type": "markdown",
   "metadata": {
    "slideshow": {
     "slide_type": "slide"
    }
   },
   "source": [
    "That's right. In order to preserve your new dataframe, you have to **declare** it as a new variable. And finally, whenever you make a copy of a dataframe, it is **highly recommended** to add the `.copy()` command at the end:"
   ]
  },
  {
   "cell_type": "code",
   "execution_count": null,
   "metadata": {
    "slideshow": {
     "slide_type": "fragment"
    }
   },
   "outputs": [],
   "source": [
    "metro_trimmed = metro[desired_columns].copy()\n",
    "metro_trimmed"
   ]
  },
  {
   "cell_type": "markdown",
   "metadata": {
    "slideshow": {
     "slide_type": "slide"
    }
   },
   "source": [
    "### Subsetting/querying/filtering the data\n",
    "\n",
    "What if you only want to see a subset of the data? Or create a new table based on a query?"
   ]
  },
  {
   "cell_type": "code",
   "execution_count": null,
   "metadata": {
    "slideshow": {
     "slide_type": "fragment"
    }
   },
   "outputs": [],
   "source": [
    "metro_trimmed[metro_trimmed.LINE == 'EXPO']"
   ]
  },
  {
   "cell_type": "markdown",
   "metadata": {
    "slideshow": {
     "slide_type": "slide"
    }
   },
   "source": [
    "Another way using `.loc`\n",
    "- https://www.w3resource.com/pandas/dataframe/dataframe-loc.php"
   ]
  },
  {
   "cell_type": "code",
   "execution_count": null,
   "metadata": {
    "slideshow": {
     "slide_type": "slide"
    }
   },
   "outputs": [],
   "source": [
    "# another way .loc\n",
    "metro_trimmed.loc[metro_trimmed['LINE'] == 'Red']"
   ]
  },
  {
   "cell_type": "code",
   "execution_count": null,
   "metadata": {
    "slideshow": {
     "slide_type": "slide"
    }
   },
   "outputs": [],
   "source": [
    "# another way .query\n",
    "metro_trimmed.query(\"LINE == 'EXPO'\")"
   ]
  },
  {
   "cell_type": "code",
   "execution_count": null,
   "metadata": {
    "slideshow": {
     "slide_type": "slide"
    }
   },
   "outputs": [],
   "source": [
    "# try it yourself. Query the dataframe for other properties of interest\n"
   ]
  },
  {
   "cell_type": "markdown",
   "metadata": {
    "slideshow": {
     "slide_type": "slide"
    }
   },
   "source": [
    "## Plotting\n",
    "\n",
    "We have now imported a shapefile, trimmed it, and created a series of queried subsets. Let's visualize our data. First, simply pass it the `plot()` command to see what it looks like."
   ]
  },
  {
   "cell_type": "code",
   "execution_count": null,
   "metadata": {
    "slideshow": {
     "slide_type": "fragment"
    }
   },
   "outputs": [],
   "source": [
    "metro_trimmed.plot()"
   ]
  },
  {
   "cell_type": "markdown",
   "metadata": {
    "slideshow": {
     "slide_type": "slide"
    }
   },
   "source": [
    "That's great! Very rewarding, with a single command. The reason it is able to plot the station points is because of the `geometry` column that is created from the shapefile. This is a unique geopandas feature."
   ]
  },
  {
   "cell_type": "code",
   "execution_count": null,
   "metadata": {
    "slideshow": {
     "slide_type": "fragment"
    }
   },
   "outputs": [],
   "source": [
    "metro_trimmed.geometry"
   ]
  },
  {
   "cell_type": "markdown",
   "metadata": {
    "slideshow": {
     "slide_type": "slide"
    }
   },
   "source": [
    "### A prettier plot\n",
    "\n",
    "You can add additional arguments to make the plot prettier: change the size, add legends, etc."
   ]
  },
  {
   "cell_type": "code",
   "execution_count": null,
   "metadata": {},
   "outputs": [],
   "source": [
    "metro_trimmed.plot(\n",
    "            figsize=(20,12),   #size of the plot (a bit bigger than the default)\n",
    "            column = 'LINE',   # column that defines the color of the dots\n",
    "            legend = True,     # add a legend           \n",
    "            legend_kwds={\n",
    "               'loc': 'upper right',\n",
    "               'bbox_to_anchor':(1,1)\n",
    "            }                  # this puts the legend to the side\n",
    ") "
   ]
  },
  {
   "cell_type": "markdown",
   "metadata": {
    "slideshow": {
     "slide_type": "slide"
    }
   },
   "source": [
    "## Mapping with folium"
   ]
  },
  {
   "cell_type": "markdown",
   "metadata": {
    "slideshow": {
     "slide_type": "-"
    }
   },
   "source": [
    "Now it's time for another module. Everybody, please welcome `folium`. Folium brings leaflet, an open source javascript mapping library into our Python environment, allowing you to create instant interactive maps. Try it:"
   ]
  },
  {
   "cell_type": "code",
   "execution_count": null,
   "metadata": {},
   "outputs": [],
   "source": [
    "import folium"
   ]
  },
  {
   "cell_type": "code",
   "execution_count": null,
   "metadata": {
    "slideshow": {
     "slide_type": "slide"
    }
   },
   "outputs": [],
   "source": [
    "# default folium map\n",
    "m = folium.Map()\n",
    "m"
   ]
  },
  {
   "cell_type": "markdown",
   "metadata": {},
   "source": [
    "A world map is cool... but let's add arguments to the `folium.map` command. Specifically, we can feed it a center latitude value, a center longitude value, and a default zoom level."
   ]
  },
  {
   "cell_type": "markdown",
   "metadata": {
    "jp-MarkdownHeadingCollapsed": true,
    "jupyter": {
     "source_hidden": true
    },
    "slideshow": {
     "slide_type": "slide"
    },
    "tags": []
   },
   "source": [
    "### Get average lat/lon's"
   ]
  },
  {
   "cell_type": "code",
   "execution_count": null,
   "metadata": {
    "slideshow": {
     "slide_type": "fragment"
    }
   },
   "outputs": [],
   "source": [
    "# average latitude\n",
    "latitude = metro_trimmed.LAT.mean()\n",
    "latitude"
   ]
  },
  {
   "cell_type": "code",
   "execution_count": null,
   "metadata": {
    "slideshow": {
     "slide_type": "fragment"
    }
   },
   "outputs": [],
   "source": [
    "# average longitude\n",
    "longitude = metro_trimmed.LONG.mean()\n",
    "longitude"
   ]
  },
  {
   "cell_type": "markdown",
   "metadata": {
    "slideshow": {
     "slide_type": "slide"
    }
   },
   "source": [
    "### Folium map with arguments\n",
    "\n",
    "Complete the code cell below with arguments to center the map based on the metro coordinates calculated above, and adjust the zoom level accordingly. Refer the [folium documentation](https://python-visualization.github.io/folium/quickstart.html) as necessary."
   ]
  },
  {
   "cell_type": "code",
   "execution_count": null,
   "metadata": {
    "slideshow": {
     "slide_type": "fragment"
    }
   },
   "outputs": [],
   "source": [
    "# complete this code so that the map will show up \n",
    "# centered based on the average lat/lon calculated above\n",
    "# adjust the zoom level accordingly\n",
    "m = folium.Map(location=[latitude,longitude])\n",
    "m"
   ]
  },
  {
   "cell_type": "markdown",
   "metadata": {
    "slideshow": {
     "slide_type": "slide"
    }
   },
   "source": [
    "### Adding point markers\n",
    "\n",
    "How do you add a marker to a folium map?\n",
    "\n",
    "* [Folium quickstart](https://python-visualization.github.io/folium/quickstart.html)\n",
    "\n",
    "```\n",
    "folium.Marker([45.3288, -121.6625], popup='<i>Mt. Hood Meadows</i>', tooltip=tooltip).add_to(m)\n",
    "```"
   ]
  },
  {
   "cell_type": "markdown",
   "metadata": {
    "slideshow": {
     "slide_type": "slide"
    }
   },
   "source": [
    "Since we want to add a marker *for each station* in our dataframe, we do a for loop, and add the marker within the loop."
   ]
  },
  {
   "cell_type": "code",
   "execution_count": null,
   "metadata": {
    "slideshow": {
     "slide_type": "fragment"
    },
    "tags": []
   },
   "outputs": [],
   "source": [
    "# first, note how to loop through a dataframe:\n",
    "for index, row in metro_trimmed.iterrows():\n",
    "    print(row.STATION, row.LAT, row.LONG)"
   ]
  },
  {
   "cell_type": "markdown",
   "metadata": {
    "slideshow": {
     "slide_type": "slide"
    }
   },
   "source": [
    "Using the for loop logic above, create a folium marker for each row in the dataframe."
   ]
  },
  {
   "cell_type": "code",
   "execution_count": null,
   "metadata": {
    "slideshow": {
     "slide_type": "fragment"
    }
   },
   "outputs": [],
   "source": [
    "\n",
    "# add the zipcodes\n",
    "for index, row in metro_trimmed.iterrows():\n",
    "    # add folium marker code\n",
    "    folium.Marker([row.LAT, row.LONG], popup=row.STATION, tooltip=row.STATION).add_to(m)\n",
    "m"
   ]
  },
  {
   "cell_type": "markdown",
   "metadata": {
    "slideshow": {
     "slide_type": "slide"
    }
   },
   "source": [
    "### Color code markers\n",
    "That's great, but can we color code the markers so that they correspond to their metro lines?\n",
    "\n",
    "To do so:\n",
    "\n",
    "1. create a new column `color`\n",
    "1. add a color of choice based on the LINE that each row represents"
   ]
  },
  {
   "cell_type": "code",
   "execution_count": null,
   "metadata": {
    "slideshow": {
     "slide_type": "slide"
    }
   },
   "outputs": [],
   "source": [
    "# add a new column\n",
    "metro_trimmed['color'] = ''"
   ]
  },
  {
   "cell_type": "code",
   "execution_count": null,
   "metadata": {
    "slideshow": {
     "slide_type": "fragment"
    }
   },
   "outputs": [],
   "source": [
    "metro_trimmed.head()"
   ]
  },
  {
   "cell_type": "markdown",
   "metadata": {
    "slideshow": {
     "slide_type": "slide"
    }
   },
   "source": [
    "### Find unique values in a column"
   ]
  },
  {
   "cell_type": "code",
   "execution_count": null,
   "metadata": {
    "slideshow": {
     "slide_type": "fragment"
    }
   },
   "outputs": [],
   "source": [
    "# find unique values in the LINE column\n",
    "metro_trimmed.LINE.unique()"
   ]
  },
  {
   "cell_type": "markdown",
   "metadata": {
    "slideshow": {
     "slide_type": "slide"
    }
   },
   "source": [
    "### Update column based on a query on another column\n",
    "We now want to populate the newly created `color` column with values based on the LINE.\n",
    "\n",
    "Remember how you used the `loc` command to query the data. "
   ]
  },
  {
   "cell_type": "code",
   "execution_count": null,
   "metadata": {
    "scrolled": true,
    "slideshow": {
     "slide_type": "slide"
    }
   },
   "outputs": [],
   "source": [
    "# display rows that match a query\n",
    "metro_trimmed.loc[metro_trimmed['LINE'] == 'EXPO']"
   ]
  },
  {
   "cell_type": "markdown",
   "metadata": {
    "slideshow": {
     "slide_type": "slide"
    }
   },
   "source": [
    "The `loc` command has additional functionalities. You can use it to update a field based on a query on *another* field. But first, note that folium accepts only a few named colors, according to their [documentation](https://python-visualization.github.io/folium/modules.html): \n",
    "\n",
    "```\n",
    "[‘red’, ‘blue’, ‘green’, ‘purple’, ‘orange’, ‘darkred’,’lightred’, ‘beige’, ‘darkblue’, ‘darkgreen’, ‘cadetblue’, ‘darkpurple’, ‘white’, ‘pink’, ‘lightblue’, ‘lightgreen’, ‘gray’, ‘black’, ‘lightgray’]\n",
    "```"
   ]
  },
  {
   "attachments": {
    "image.png": {
     "image/png": "[encoded data removed]"
    }
   },
   "cell_type": "markdown",
   "metadata": {
    "slideshow": {
     "slide_type": "slide"
    }
   },
   "source": [
    "Using the `loc` command, we can update the color column for a single LINE:\n",
    "![image.png](attachment:image.png)"
   ]
  },
  {
   "cell_type": "code",
   "execution_count": null,
   "metadata": {
    "slideshow": {
     "slide_type": "fragment"
    }
   },
   "outputs": [],
   "source": [
    "metro_trimmed.loc[metro_trimmed['LINE'] == 'EXPO', 'color'] = 'orange'"
   ]
  },
  {
   "cell_type": "code",
   "execution_count": null,
   "metadata": {
    "slideshow": {
     "slide_type": "fragment"
    }
   },
   "outputs": [],
   "source": [
    "# check your work\n",
    "metro_trimmed.loc[metro_trimmed['LINE'] == 'EXPO']"
   ]
  },
  {
   "cell_type": "markdown",
   "metadata": {
    "slideshow": {
     "slide_type": "slide"
    }
   },
   "source": [
    "Now it's your turn. Update the color column for all other metro LINE's in the cell below:"
   ]
  },
  {
   "cell_type": "code",
   "execution_count": null,
   "metadata": {
    "slideshow": {
     "slide_type": "fragment"
    }
   },
   "outputs": [],
   "source": [
    "# Add a color value to each of the following lines: 'Blue', 'Blue/EXPO', 'EXPO', 'Red', 'Red/Purple', 'Purple', 'Green', 'Gold'\n",
    "# The first one is done for you:\n",
    "metro_trimmed.loc[metro_trimmed['LINE'] == 'Blue', 'color'] = 'blue'\n"
   ]
  },
  {
   "cell_type": "code",
   "execution_count": null,
   "metadata": {
    "slideshow": {
     "slide_type": "fragment"
    }
   },
   "outputs": [],
   "source": [
    "metro_trimmed.sample(5)"
   ]
  },
  {
   "cell_type": "code",
   "execution_count": null,
   "metadata": {
    "slideshow": {
     "slide_type": "slide"
    }
   },
   "outputs": [],
   "source": [
    "# reset the map (you need to do this to erase previous layers)\n",
    "m = folium.Map(location=[latitude,longitude], tiles='Stamen Terrain', zoom_start=10)"
   ]
  },
  {
   "cell_type": "code",
   "execution_count": null,
   "metadata": {
    "slideshow": {
     "slide_type": "slide"
    }
   },
   "outputs": [],
   "source": [
    "# add the stations with color icons\n",
    "for index, row in metro_trimmed.iterrows():\n",
    "    tooltip_text = row.LINE + ' Line: ' + row.STATION\n",
    "    folium.Marker(\n",
    "        [row.LAT,row.LONG], \n",
    "        popup=row.STATION, \n",
    "        tooltip=tooltip_text,\n",
    "        icon=folium.Icon(color=row.color)\n",
    "    ).add_to(m)\n",
    "\n",
    "# show the map\n",
    "m"
   ]
  },
  {
   "cell_type": "markdown",
   "metadata": {
    "slideshow": {
     "slide_type": "slide"
    }
   },
   "source": [
    "### Saving your folium map as an HTML file"
   ]
  },
  {
   "cell_type": "code",
   "execution_count": null,
   "metadata": {
    "slideshow": {
     "slide_type": "-"
    }
   },
   "outputs": [],
   "source": [
    "# save the interactive maps as an html file\n",
    "m.save('metro.html')"
   ]
  }
 ],
 "metadata": {
  "celltoolbar": "Slideshow",
  "kernelspec": {
   "display_name": "Python 3 (ipykernel)",
   "language": "python",
   "name": "python3"
  },
  "language_info": {
   "codemirror_mode": {
    "name": "ipython",
    "version": 3
   },
   "file_extension": ".py",
   "mimetype": "text/x-python",
   "name": "python",
   "nbconvert_exporter": "python",
   "pygments_lexer": "ipython3",
   "version": "3.9.6"
  },
  "toc": {
   "base_numbering": 1,
   "nav_menu": {},
   "number_sections": true,
   "sideBar": true,
   "skip_h1_title": false,
   "title_cell": "Table of Contents",
   "title_sidebar": "Contents",
   "toc_cell": true,
   "toc_position": {
    "height": "757px",
    "left": "523px",
    "top": "110px",
    "width": "384px"
   },
   "toc_section_display": true,
   "toc_window_display": false
  }
 },
 "nbformat": 4,
 "nbformat_minor": 4
}
